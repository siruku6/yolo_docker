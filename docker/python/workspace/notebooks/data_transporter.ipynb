{
 "cells": [
  {
   "cell_type": "markdown",
   "id": "a784d54d",
   "metadata": {},
   "source": [
    "# データを学習用と検証用に分割して整理する\n",
    "\n",
    "`README.md`の項目「」"
   ]
  },
  {
   "cell_type": "code",
   "execution_count": 19,
   "id": "b76fab43",
   "metadata": {},
   "outputs": [],
   "source": [
    "# 画像を扱う機械学習のためのデータセットまとめ\n",
    "# https://qiita.com/leetmikeal/items/7c0d23e39bf38ab8be23\n",
    "\n",
    "# Visual Object Classes Challenge 2008 (VOC2008)\n",
    "# http://host.robots.ox.ac.uk/pascal/VOC/voc2008/index.html\n",
    "\n",
    "# Dockerコンテナで利用できるリソースや権限を制限する（Dockerの最新機能を使ってみよう：第3回）\n",
    "# dockerコマンドオプション –shm-size\n",
    "# https://knowledge.sakura.ad.jp/5118/\n",
    "\n",
    "\n",
    "from glob import glob\n",
    "import os\n",
    "import shutil\n",
    "from typing import List\n",
    "\n",
    "import numpy as np\n",
    "import pandas as pd\n",
    "from tqdm.notebook import tqdm\n",
    "\n",
    "\n",
    "parent_dir: str = \"../VOCdevkit/VOC2008\""
   ]
  },
  {
   "cell_type": "markdown",
   "id": "59c4f81f",
   "metadata": {},
   "source": [
    "# 1. Check files"
   ]
  },
  {
   "cell_type": "code",
   "execution_count": 8,
   "id": "1dc8ae1a",
   "metadata": {
    "collapsed": true
   },
   "outputs": [
    {
     "data": {
      "text/html": [
       "<div>\n",
       "<style scoped>\n",
       "    .dataframe tbody tr th:only-of-type {\n",
       "        vertical-align: middle;\n",
       "    }\n",
       "\n",
       "    .dataframe tbody tr th {\n",
       "        vertical-align: top;\n",
       "    }\n",
       "\n",
       "    .dataframe thead th {\n",
       "        text-align: right;\n",
       "    }\n",
       "</style>\n",
       "<table border=\"1\" class=\"dataframe\">\n",
       "  <thead>\n",
       "    <tr style=\"text-align: right;\">\n",
       "      <th></th>\n",
       "      <th>0</th>\n",
       "    </tr>\n",
       "  </thead>\n",
       "  <tbody>\n",
       "    <tr>\n",
       "      <th>0</th>\n",
       "      <td>2008_000008</td>\n",
       "    </tr>\n",
       "    <tr>\n",
       "      <th>1</th>\n",
       "      <td>2008_000015</td>\n",
       "    </tr>\n",
       "    <tr>\n",
       "      <th>2</th>\n",
       "      <td>2008_000019</td>\n",
       "    </tr>\n",
       "    <tr>\n",
       "      <th>3</th>\n",
       "      <td>2008_000023</td>\n",
       "    </tr>\n",
       "    <tr>\n",
       "      <th>4</th>\n",
       "      <td>2008_000028</td>\n",
       "    </tr>\n",
       "    <tr>\n",
       "      <th>...</th>\n",
       "      <td>...</td>\n",
       "    </tr>\n",
       "    <tr>\n",
       "      <th>2106</th>\n",
       "      <td>2008_008748</td>\n",
       "    </tr>\n",
       "    <tr>\n",
       "      <th>2107</th>\n",
       "      <td>2008_008749</td>\n",
       "    </tr>\n",
       "    <tr>\n",
       "      <th>2108</th>\n",
       "      <td>2008_008757</td>\n",
       "    </tr>\n",
       "    <tr>\n",
       "      <th>2109</th>\n",
       "      <td>2008_008770</td>\n",
       "    </tr>\n",
       "    <tr>\n",
       "      <th>2110</th>\n",
       "      <td>2008_008773</td>\n",
       "    </tr>\n",
       "  </tbody>\n",
       "</table>\n",
       "<p>2111 rows × 1 columns</p>\n",
       "</div>"
      ],
      "text/plain": [
       "                0\n",
       "0     2008_000008\n",
       "1     2008_000015\n",
       "2     2008_000019\n",
       "3     2008_000023\n",
       "4     2008_000028\n",
       "...           ...\n",
       "2106  2008_008748\n",
       "2107  2008_008749\n",
       "2108  2008_008757\n",
       "2109  2008_008770\n",
       "2110  2008_008773\n",
       "\n",
       "[2111 rows x 1 columns]"
      ]
     },
     "execution_count": 8,
     "metadata": {},
     "output_type": "execute_result"
    }
   ],
   "source": [
    "target_dir: str = \"ImageSets/Main\"\n",
    "    \n",
    "dir_name: str = os.path.join(parent_dir, target_dir)\n",
    "target_file_name: str = \"train.txt\"\n",
    "df = pd.read_csv(os.path.join(dir_name, target_file_name), header=None)\n",
    "df"
   ]
  },
  {
   "cell_type": "code",
   "execution_count": 9,
   "id": "4e4b56aa",
   "metadata": {},
   "outputs": [
    {
     "data": {
      "text/plain": [
       "(2221, 4133, 4332, 2111, 2221, 4332, 4133)"
      ]
     },
     "execution_count": 9,
     "metadata": {},
     "output_type": "execute_result"
    }
   ],
   "source": [
    "target_file_name: str = \"val.txt\"\n",
    "df_val = pd.read_csv(os.path.join(dir_name, target_file_name), header=None, sep=\" \")\n",
    "\n",
    "target_file_name: str = \"test.txt\"\n",
    "df_test = pd.read_csv(os.path.join(dir_name, target_file_name), header=None, sep=\" \")\n",
    "\n",
    "target_file_name: str = \"trainval.txt\"\n",
    "df_trval = pd.read_csv(os.path.join(dir_name, target_file_name), header=None, sep=\" \")\n",
    "\n",
    "target_file_name: str = \"train_train.txt\"\n",
    "df_tr_tr = pd.read_csv(os.path.join(dir_name, target_file_name), header=None, sep=\" \")\n",
    "\n",
    "target_file_name: str = \"train_val.txt\"\n",
    "df_tr_val = pd.read_csv(os.path.join(dir_name, target_file_name), header=None, sep=\" \")\n",
    "\n",
    "target_file_name: str = \"train_trainval.txt\"\n",
    "df_tr_trval = pd.read_csv(os.path.join(dir_name, target_file_name), header=None, sep=\" \")\n",
    "\n",
    "target_file_name: str = \"train_test.txt\"\n",
    "df_tr_test = pd.read_csv(os.path.join(dir_name, target_file_name), header=None, sep=\" \")\n",
    "\n",
    "\n",
    "len(df_val), len(df_test), len(df_trval), len(df_tr_tr), len(df_tr_val), len(df_tr_trval), len(df_tr_test)"
   ]
  },
  {
   "cell_type": "code",
   "execution_count": 10,
   "id": "a543970c",
   "metadata": {
    "collapsed": true
   },
   "outputs": [
    {
     "data": {
      "text/html": [
       "<div>\n",
       "<style scoped>\n",
       "    .dataframe tbody tr th:only-of-type {\n",
       "        vertical-align: middle;\n",
       "    }\n",
       "\n",
       "    .dataframe tbody tr th {\n",
       "        vertical-align: top;\n",
       "    }\n",
       "\n",
       "    .dataframe thead th {\n",
       "        text-align: right;\n",
       "    }\n",
       "</style>\n",
       "<table border=\"1\" class=\"dataframe\">\n",
       "  <thead>\n",
       "    <tr style=\"text-align: right;\">\n",
       "      <th></th>\n",
       "      <th>0</th>\n",
       "      <th>1</th>\n",
       "    </tr>\n",
       "  </thead>\n",
       "  <tbody>\n",
       "    <tr>\n",
       "      <th>0</th>\n",
       "      <td>2008_000002</td>\n",
       "      <td>-1</td>\n",
       "    </tr>\n",
       "    <tr>\n",
       "      <th>1</th>\n",
       "      <td>2008_000003</td>\n",
       "      <td>1</td>\n",
       "    </tr>\n",
       "    <tr>\n",
       "      <th>2</th>\n",
       "      <td>2008_000007</td>\n",
       "      <td>-1</td>\n",
       "    </tr>\n",
       "    <tr>\n",
       "      <th>3</th>\n",
       "      <td>2008_000008</td>\n",
       "      <td>-1</td>\n",
       "    </tr>\n",
       "    <tr>\n",
       "      <th>4</th>\n",
       "      <td>2008_000009</td>\n",
       "      <td>-1</td>\n",
       "    </tr>\n",
       "    <tr>\n",
       "      <th>...</th>\n",
       "      <td>...</td>\n",
       "      <td>...</td>\n",
       "    </tr>\n",
       "    <tr>\n",
       "      <th>8460</th>\n",
       "      <td>2008_008769</td>\n",
       "      <td>0</td>\n",
       "    </tr>\n",
       "    <tr>\n",
       "      <th>8461</th>\n",
       "      <td>2008_008771</td>\n",
       "      <td>0</td>\n",
       "    </tr>\n",
       "    <tr>\n",
       "      <th>8462</th>\n",
       "      <td>2008_008774</td>\n",
       "      <td>0</td>\n",
       "    </tr>\n",
       "    <tr>\n",
       "      <th>8463</th>\n",
       "      <td>2008_008775</td>\n",
       "      <td>0</td>\n",
       "    </tr>\n",
       "    <tr>\n",
       "      <th>8464</th>\n",
       "      <td>2008_008776</td>\n",
       "      <td>0</td>\n",
       "    </tr>\n",
       "  </tbody>\n",
       "</table>\n",
       "<p>8465 rows × 2 columns</p>\n",
       "</div>"
      ],
      "text/plain": [
       "                0  1\n",
       "0     2008_000002 -1\n",
       "1     2008_000003  1\n",
       "2     2008_000007 -1\n",
       "3     2008_000008 -1\n",
       "4     2008_000009 -1\n",
       "...           ... ..\n",
       "8460  2008_008769  0\n",
       "8461  2008_008771  0\n",
       "8462  2008_008774  0\n",
       "8463  2008_008775  0\n",
       "8464  2008_008776  0\n",
       "\n",
       "[8465 rows x 2 columns]"
      ]
     },
     "execution_count": 10,
     "metadata": {},
     "output_type": "execute_result"
    }
   ],
   "source": [
    "df_unioned = pd.concat([df_tr_trval, df_tr_test], ignore_index=True)\n",
    "df_unioned"
   ]
  },
  {
   "cell_type": "code",
   "execution_count": 38,
   "id": "987d2936",
   "metadata": {
    "collapsed": true
   },
   "outputs": [
    {
     "data": {
      "text/html": [
       "<div>\n",
       "<style scoped>\n",
       "    .dataframe tbody tr th:only-of-type {\n",
       "        vertical-align: middle;\n",
       "    }\n",
       "\n",
       "    .dataframe tbody tr th {\n",
       "        vertical-align: top;\n",
       "    }\n",
       "\n",
       "    .dataframe thead th {\n",
       "        text-align: right;\n",
       "    }\n",
       "</style>\n",
       "<table border=\"1\" class=\"dataframe\">\n",
       "  <thead>\n",
       "    <tr style=\"text-align: right;\">\n",
       "      <th></th>\n",
       "      <th>0</th>\n",
       "      <th>1</th>\n",
       "    </tr>\n",
       "  </thead>\n",
       "  <tbody>\n",
       "    <tr>\n",
       "      <th>4332</th>\n",
       "      <td>2008_000001</td>\n",
       "      <td>0</td>\n",
       "    </tr>\n",
       "    <tr>\n",
       "      <th>0</th>\n",
       "      <td>2008_000002</td>\n",
       "      <td>-1</td>\n",
       "    </tr>\n",
       "    <tr>\n",
       "      <th>1</th>\n",
       "      <td>2008_000003</td>\n",
       "      <td>1</td>\n",
       "    </tr>\n",
       "    <tr>\n",
       "      <th>4333</th>\n",
       "      <td>2008_000004</td>\n",
       "      <td>0</td>\n",
       "    </tr>\n",
       "    <tr>\n",
       "      <th>4334</th>\n",
       "      <td>2008_000005</td>\n",
       "      <td>0</td>\n",
       "    </tr>\n",
       "    <tr>\n",
       "      <th>...</th>\n",
       "      <td>...</td>\n",
       "      <td>...</td>\n",
       "    </tr>\n",
       "    <tr>\n",
       "      <th>4330</th>\n",
       "      <td>2008_008772</td>\n",
       "      <td>-1</td>\n",
       "    </tr>\n",
       "    <tr>\n",
       "      <th>4331</th>\n",
       "      <td>2008_008773</td>\n",
       "      <td>-1</td>\n",
       "    </tr>\n",
       "    <tr>\n",
       "      <th>8462</th>\n",
       "      <td>2008_008774</td>\n",
       "      <td>0</td>\n",
       "    </tr>\n",
       "    <tr>\n",
       "      <th>8463</th>\n",
       "      <td>2008_008775</td>\n",
       "      <td>0</td>\n",
       "    </tr>\n",
       "    <tr>\n",
       "      <th>8464</th>\n",
       "      <td>2008_008776</td>\n",
       "      <td>0</td>\n",
       "    </tr>\n",
       "  </tbody>\n",
       "</table>\n",
       "<p>8465 rows × 2 columns</p>\n",
       "</div>"
      ],
      "text/plain": [
       "                0  1\n",
       "4332  2008_000001  0\n",
       "0     2008_000002 -1\n",
       "1     2008_000003  1\n",
       "4333  2008_000004  0\n",
       "4334  2008_000005  0\n",
       "...           ... ..\n",
       "4330  2008_008772 -1\n",
       "4331  2008_008773 -1\n",
       "8462  2008_008774  0\n",
       "8463  2008_008775  0\n",
       "8464  2008_008776  0\n",
       "\n",
       "[8465 rows x 2 columns]"
      ]
     },
     "execution_count": 38,
     "metadata": {},
     "output_type": "execute_result"
    }
   ],
   "source": [
    "df_unioned.drop_duplicates(subset=[0]).sort_values(0)"
   ]
  },
  {
   "cell_type": "code",
   "execution_count": 11,
   "id": "ad441b23",
   "metadata": {},
   "outputs": [
    {
     "data": {
      "text/plain": [
       "5096"
      ]
     },
     "execution_count": 11,
     "metadata": {},
     "output_type": "execute_result"
    }
   ],
   "source": [
    "target_dir: str = \"JPEGImages\"\n",
    "image_paths: List[str] = glob(os.path.join(parent_dir, target_dir, \"*\"))\n",
    "len(image_paths)"
   ]
  },
  {
   "cell_type": "markdown",
   "id": "8bd704e7",
   "metadata": {},
   "source": [
    "# 2. move images"
   ]
  },
  {
   "cell_type": "code",
   "execution_count": 24,
   "id": "162899ad",
   "metadata": {},
   "outputs": [],
   "source": [
    "parent_dir: str = \"../VOCdevkit/VOC2008\"\n",
    "target_dir: str = \"ImageSets/Main\"\n",
    "dir_name: str = os.path.join(parent_dir, target_dir)\n",
    "\n",
    "target_file_name: str = \"train_train.txt\"\n",
    "df_tr_tr = pd.read_csv(os.path.join(dir_name, target_file_name), header=None, sep=\" \")\n",
    "\n",
    "target_file_name: str = \"train_val.txt\"\n",
    "df_tr_val = pd.read_csv(os.path.join(dir_name, target_file_name), header=None, sep=\" \")\n"
   ]
  },
  {
   "cell_type": "code",
   "execution_count": 25,
   "id": "8eed214d",
   "metadata": {},
   "outputs": [
    {
     "data": {
      "text/plain": [
       "['2008_000002.jpg',\n",
       " '2008_000003.jpg',\n",
       " '2008_000007.jpg',\n",
       " '2008_000009.jpg',\n",
       " '2008_000016.jpg']"
      ]
     },
     "execution_count": 25,
     "metadata": {},
     "output_type": "execute_result"
    }
   ],
   "source": [
    "def extract_filenames(df: pd.DataFrame, ext: str = '.jpg') -> List[str]:\n",
    "    filename_ndarray: np.ndarray = df[0].to_numpy()\n",
    "    filenames: List[str] = [\n",
    "        filename + ext for filename in filename_ndarray\n",
    "    ]\n",
    "    return filenames\n",
    "\n",
    "train_filenames: List[str] = extract_filenames(df_tr_tr)\n",
    "val_filenames: List[str] = extract_filenames(df_tr_val)\n",
    "val_filenames[:5]"
   ]
  },
  {
   "cell_type": "code",
   "execution_count": 26,
   "id": "0ef10f62",
   "metadata": {},
   "outputs": [
    {
     "data": {
      "application/json": {
       "ascii": false,
       "bar_format": null,
       "colour": null,
       "elapsed": 0.01913166046142578,
       "initial": 0,
       "n": 0,
       "ncols": null,
       "nrows": null,
       "postfix": null,
       "prefix": "",
       "rate": null,
       "total": 2111,
       "unit": "it",
       "unit_divisor": 1000,
       "unit_scale": false
      },
      "application/vnd.jupyter.widget-view+json": {
       "model_id": "286d88733c974deab3b83c04899a0883",
       "version_major": 2,
       "version_minor": 0
      },
      "text/plain": [
       "  0%|          | 0/2111 [00:00<?, ?it/s]"
      ]
     },
     "metadata": {},
     "output_type": "display_data"
    },
    {
     "data": {
      "application/json": {
       "ascii": false,
       "bar_format": null,
       "colour": null,
       "elapsed": 0.014811277389526367,
       "initial": 0,
       "n": 0,
       "ncols": null,
       "nrows": null,
       "postfix": null,
       "prefix": "",
       "rate": null,
       "total": 2221,
       "unit": "it",
       "unit_divisor": 1000,
       "unit_scale": false
      },
      "application/vnd.jupyter.widget-view+json": {
       "model_id": "81ac3a76be83456d89ae2609fae120c3",
       "version_major": 2,
       "version_minor": 0
      },
      "text/plain": [
       "  0%|          | 0/2221 [00:00<?, ?it/s]"
      ]
     },
     "metadata": {},
     "output_type": "display_data"
    }
   ],
   "source": [
    "def copy_files(fname_list: List[str], origin_dir: str, target_dir: str):\n",
    "    for fname in tqdm(fname_list):\n",
    "        file_path: str = os.path.join(origin_dir, fname)\n",
    "        shutil.copy(file_path, target_dir)\n",
    "\n",
    "\n",
    "origin_dir: str = os.path.join(parent_dir, \"JPEGImages\")\n",
    "\n",
    "image_train_target_dir: str = \"../tr_data/images/train\"\n",
    "image_val_target_dir: str = \"../tr_data/images/val\"\n",
    "os.makedirs(image_train_target_dir, exist_ok=True)\n",
    "os.makedirs(image_val_target_dir, exist_ok=True)\n",
    "    \n",
    "copy_files(train_filenames, origin_dir, target_dir=image_train_target_dir)\n",
    "copy_files(val_filenames, origin_dir, target_dir=image_val_target_dir)"
   ]
  },
  {
   "cell_type": "markdown",
   "id": "c3efda70",
   "metadata": {},
   "source": [
    "# 3. move annotation files (yolo formatted)"
   ]
  },
  {
   "cell_type": "code",
   "execution_count": 29,
   "id": "1899dca4",
   "metadata": {},
   "outputs": [
    {
     "data": {
      "text/plain": [
       "['2008_000008.txt',\n",
       " '2008_000015.txt',\n",
       " '2008_000019.txt',\n",
       " '2008_000023.txt',\n",
       " '2008_000028.txt']"
      ]
     },
     "execution_count": 29,
     "metadata": {},
     "output_type": "execute_result"
    }
   ],
   "source": [
    "train_annotation_filenames: List[str] = extract_filenames(df_tr_tr, '.txt')\n",
    "val_annotation_filenames: List[str] = extract_filenames(df_tr_val, '.txt')\n",
    "train_annotation_filenames[:5]\n"
   ]
  },
  {
   "cell_type": "code",
   "execution_count": 30,
   "id": "f14c4487",
   "metadata": {},
   "outputs": [
    {
     "data": {
      "application/json": {
       "ascii": false,
       "bar_format": null,
       "colour": null,
       "elapsed": 0.04797959327697754,
       "initial": 0,
       "n": 0,
       "ncols": null,
       "nrows": null,
       "postfix": null,
       "prefix": "",
       "rate": null,
       "total": 2111,
       "unit": "it",
       "unit_divisor": 1000,
       "unit_scale": false
      },
      "application/vnd.jupyter.widget-view+json": {
       "model_id": "9d8dc3df7d034f2fa011efe0f934e1a2",
       "version_major": 2,
       "version_minor": 0
      },
      "text/plain": [
       "  0%|          | 0/2111 [00:00<?, ?it/s]"
      ]
     },
     "metadata": {},
     "output_type": "display_data"
    },
    {
     "data": {
      "application/json": {
       "ascii": false,
       "bar_format": null,
       "colour": null,
       "elapsed": 0.021316051483154297,
       "initial": 0,
       "n": 0,
       "ncols": null,
       "nrows": null,
       "postfix": null,
       "prefix": "",
       "rate": null,
       "total": 2221,
       "unit": "it",
       "unit_divisor": 1000,
       "unit_scale": false
      },
      "application/vnd.jupyter.widget-view+json": {
       "model_id": "5480db0fcfdf4a11a72791a7ad9ec02e",
       "version_major": 2,
       "version_minor": 0
      },
      "text/plain": [
       "  0%|          | 0/2221 [00:00<?, ?it/s]"
      ]
     },
     "metadata": {},
     "output_type": "display_data"
    }
   ],
   "source": [
    "parent_dir: str = \"../tr_data\"\n",
    "origin_dir: str = os.path.join(parent_dir, \"format4yolo\")\n",
    "\n",
    "annotation_train_target_dir: str = os.path.join(parent_dir, \"labels/train\")\n",
    "annotation_val_target_dir: str = os.path.join(parent_dir, \"labels/val\")\n",
    "    \n",
    "os.makedirs(annotation_train_target_dir, exist_ok=True)\n",
    "os.makedirs(annotation_val_target_dir, exist_ok=True)\n",
    "\n",
    "copy_files(train_annotation_filenames, origin_dir, target_dir=annotation_train_target_dir)\n",
    "copy_files(val_annotation_filenames, origin_dir, target_dir=annotation_val_target_dir)"
   ]
  },
  {
   "cell_type": "code",
   "execution_count": null,
   "id": "2de96031",
   "metadata": {},
   "outputs": [],
   "source": []
  }
 ],
 "metadata": {
  "kernelspec": {
   "display_name": "Python 3 (ipykernel)",
   "language": "python",
   "name": "python3"
  },
  "language_info": {
   "codemirror_mode": {
    "name": "ipython",
    "version": 3
   },
   "file_extension": ".py",
   "mimetype": "text/x-python",
   "name": "python",
   "nbconvert_exporter": "python",
   "pygments_lexer": "ipython3",
   "version": "3.9.10"
  }
 },
 "nbformat": 4,
 "nbformat_minor": 5
}
